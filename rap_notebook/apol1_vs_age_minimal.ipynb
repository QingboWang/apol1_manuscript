{
 "cells": [
  {
   "cell_type": "markdown",
   "metadata": {},
   "source": [
    "# APOL1 expression vs age"
   ]
  },
  {
   "cell_type": "code",
   "execution_count": 2,
   "metadata": {
    "tags": [],
    "trusted": true
   },
   "outputs": [],
   "source": [
    "#Import modules\n",
    "import pandas as pd\n",
    "import numpy as np\n",
    "import time as tm\n",
    "import os\n",
    "import dxdata\n",
    "from bgen import BgenReader"
   ]
  },
  {
   "cell_type": "code",
   "execution_count": null,
   "metadata": {
    "tags": [],
    "trusted": true
   },
   "outputs": [
    {
     "name": "stderr",
     "output_type": "stream",
     "text": [
      "/tmp/ipykernel_82/1921754713.py:22: DtypeWarning: Columns (3) have mixed types. Specify dtype option on import or set low_memory=False.\n",
      "  sns = pd.read_csv(fn, sep=\" \")\n"
     ]
    },
    {
     "name": "stdout",
     "output_type": "stream",
     "text": [
      "1\n",
      "1\n",
      "1\n"
     ]
    }
   ],
   "source": [
    "\n",
    "#Read the population assignment data:\n",
    "ans = pd.read_csv(\"/mnt/project/Datasets/Ancestry/panukbb_ancestry.txt\", sep=\"\\t\", index_col=0)\n",
    "ans.rename(columns={\"pop\":\"population\"}, inplace=True) #original bad naming..\n",
    "ans.set_index(\"individual_id\", inplace=True)\n",
    "ans = ans[~ans.index.duplicated(keep=\"first\")]\n",
    "ans.index = ans.index.astype(str).astype(object)\n",
    "\n",
    "#Age, sex:\n",
    "DATASET_ID = \"REDACTED\"\n",
    "dataset = dxdata.load_dataset(id=DATASET_ID)\n",
    "participant = dataset['participant']\n",
    "field_age = participant.find_field(title=\"Age at recruitment\")\n",
    "field_sex = participant.find_field(title=\"Sex\")\n",
    "field_eid = participant.find_field(name=\"eid\")\n",
    "agesex = participant.retrieve_fields(engine=dxdata.connect(), fields=[field_eid, field_age, field_sex], coding_values=\"replace\").toPandas()\n",
    "agesex.set_index(\"eid\", inplace=True)\n",
    "agesex.columns = [\"age\", \"sex\"]\n",
    "agesex[\"sex\"] = agesex.sex.str.replace(\"Female\",\"0\").str.replace(\"Male\",\"1\").astype(int)\n",
    "\n",
    "#v1, g1 and g2:\n",
    "fn = \"/mnt/project/Bulk/Exome sequences/Population level exome OQFE variants, BGEN format - final release/ukb23159_c22_b0_v1.sample\"\n",
    "sns = pd.read_csv(fn, sep=\" \")\n",
    "sns = sns.iloc[1:,:]\n",
    "sns = sns.ID_1\n",
    "\n",
    "fn = \"/mnt/project/Bulk/Exome sequences/Population level exome OQFE variants, BGEN format - final release/ukb23159_c22_b0_v1.bgen\"\n",
    "bfile = BgenReader(fn)\n",
    "v = bfile.with_rsid(\"22:36265284:G:A\")\n",
    "print (len(v)) #Yes only one variant, good\n",
    "v1 = pd.Series(v[0].alt_dosage)\n",
    "v1.index = sns\n",
    "\n",
    "g2v = bfile.with_rsid(\"22:36265995:AATAATT:A\")\n",
    "print (len(g2v)) #Yes only one variant, good\n",
    "g2 = pd.Series(g2v[0].alt_dosage)\n",
    "g2.index = sns\n",
    "\n",
    "g1mv = bfile.with_rsid(\"22:36265988:T:G\")\n",
    "print (len(g2v)) #Yes only one variant, good\n",
    "g1m = pd.Series(g1mv[0].alt_dosage)\n",
    "g1m.index = sns"
   ]
  },
  {
   "cell_type": "code",
   "execution_count": 4,
   "metadata": {
    "tags": [],
    "trusted": true
   },
   "outputs": [],
   "source": [
    "#APOL1 expression:\n",
    "olinkdata = dataset['olink_instance_0']\n",
    "field_apol1 = olinkdata.find_field(name=\"apol1\")\n",
    "apol1 = olinkdata.retrieve_fields(engine=dxdata.connect(), fields=[field_eid]+[field_apol1], coding_values=\"replace\")\n",
    "apol1 = apol1.toPandas().set_index(\"eid\").squeeze()\n",
    "apol1 = apol1[~apol1.isna()]"
   ]
  },
  {
   "cell_type": "code",
   "execution_count": 32,
   "metadata": {
    "tags": [],
    "trusted": true
   },
   "outputs": [],
   "source": [
    "#make it a df:\n",
    "apol1.index = apol1.index.astype(int)\n",
    "ans.index = ans.index.astype(int)\n",
    "agesex.index = agesex.index.astype(int)\n",
    "#df = pd.concat([v1, g1m, g2, ans[\"population\"], apol1], axis=1)\n",
    "df = pd.concat([agesex, ans[\"population\"], apol1], axis=1) #No genotype needed for now"
   ]
  },
  {
   "cell_type": "code",
   "execution_count": 33,
   "metadata": {
    "tags": [],
    "trusted": true
   },
   "outputs": [],
   "source": [
    "#EUR and AFR separately\n",
    "dfp = df[~df.apol1.isna()]\n",
    "dfe = dfp[dfp.population==\"EUR\"]\n",
    "dfa = dfp[dfp.population==\"AFR\"]"
   ]
  },
  {
   "cell_type": "code",
   "execution_count": 38,
   "metadata": {
    "tags": [],
    "trusted": true
   },
   "outputs": [
    {
     "name": "stdout",
     "output_type": "stream",
     "text": [
      "-0.00965871012819904\n",
      "6.647050117463741e-146\n"
     ]
    }
   ],
   "source": [
    "from scipy.stats import linregress\n",
    "slope, intercept, r, p, se = linregress(dfp.age, dfp.apol1)\n",
    "print (slope)\n",
    "print (p)"
   ]
  }
 ],
 "metadata": {
  "kernelspec": {
   "display_name": "Python 3 (ipykernel)",
   "language": "python",
   "name": "python3"
  },
  "language_info": {
   "codemirror_mode": {
    "name": "ipython",
    "version": 3
   },
   "file_extension": ".py",
   "mimetype": "text/x-python",
   "name": "python",
   "nbconvert_exporter": "python",
   "pygments_lexer": "ipython3",
   "version": "3.9.16"
  }
 },
 "nbformat": 4,
 "nbformat_minor": 4
}
