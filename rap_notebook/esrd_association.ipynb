{
 "cells": [
  {
   "cell_type": "markdown",
   "metadata": {},
   "source": [
    "# ESRD association analysis"
   ]
  },
  {
   "cell_type": "code",
   "execution_count": 1,
   "metadata": {
    "tags": [],
    "trusted": true
   },
   "outputs": [],
   "source": [
    "import pandas as pd\n",
    "import dxpy\n",
    "import dxdata\n",
    "import numpy as np\n",
    "import re\n",
    "import shutil\n",
    "import subprocess\n",
    "import glob\n",
    "import os\n",
    "import ast"
   ]
  },
  {
   "cell_type": "code",
   "execution_count": 3,
   "metadata": {
    "tags": [],
    "trusted": true
   },
   "outputs": [],
   "source": [
    "#ancestry:\n",
    "ans = pd.read_csv(\"/mnt/project/Datasets/Ancestry/panukbb_ancestry.txt\", sep=\"\\t\", index_col=0)\n",
    "ans.set_index(\"individual_id\", inplace=True)\n",
    "ans.index = ans.index.astype(str)\n",
    "ans = ans[~ans.index.duplicated(keep=\"first\")]"
   ]
  },
  {
   "cell_type": "code",
   "execution_count": 4,
   "metadata": {
    "tags": [],
    "trusted": true
   },
   "outputs": [
    {
     "name": "stderr",
     "output_type": "stream",
     "text": [
      "/tmp/ipykernel_82/1841932591.py:5: DtypeWarning: Columns (3) have mixed types. Specify dtype option on import or set low_memory=False.\n",
      "  sns = pd.read_csv(fn, sep=\" \")\n",
      "/tmp/ipykernel_82/1841932591.py:16: DtypeWarning: Columns (3) have mixed types. Specify dtype option on import or set low_memory=False.\n",
      "  sns = pd.read_csv(fn, sep=\" \")\n",
      "/tmp/ipykernel_82/1841932591.py:30: DtypeWarning: Columns (3) have mixed types. Specify dtype option on import or set low_memory=False.\n",
      "  sns = pd.read_csv(fn, sep=\" \")\n"
     ]
    }
   ],
   "source": [
    "#V1, G1, G2:\n",
    "from bgen import BgenReader\n",
    "vname = \"22:36265284:G:A\"\n",
    "fn = \"/mnt/project/Bulk/Exome sequences/Population level exome OQFE variants, BGEN format - final release/ukb23159_c22_b0_v1.sample\"\n",
    "sns = pd.read_csv(fn, sep=\" \")\n",
    "sns = sns.iloc[1:,:]\n",
    "sns = sns.ID_1\n",
    "fn = \"/mnt/project/Bulk/Exome sequences/Population level exome OQFE variants, BGEN format - final release/ukb23159_c22_b0_v1.bgen\"\n",
    "bfile = BgenReader(fn)\n",
    "v = bfile.with_rsid(vname)[0]\n",
    "v1 = pd.Series(v.alt_dosage)\n",
    "v1.index = sns\n",
    "\n",
    "vname = \"22:36265988:T:G\"\n",
    "fn = \"/mnt/project/Bulk/Exome sequences/Population level exome OQFE variants, BGEN format - final release/ukb23159_c22_b0_v1.sample\"\n",
    "sns = pd.read_csv(fn, sep=\" \")\n",
    "sns = sns.iloc[1:,:]\n",
    "sns = sns.ID_1\n",
    "fn = \"/mnt/project/Bulk/Exome sequences/Population level exome OQFE variants, BGEN format - final release/ukb23159_c22_b0_v1.bgen\"\n",
    "bfile = BgenReader(fn)\n",
    "v = bfile.with_rsid(vname)[0]\n",
    "g1 = pd.Series(v.alt_dosage)\n",
    "g1.index = sns\n",
    "g1.name = \"g1m\"\n",
    "g1 = pd.DataFrame(g1)\n",
    "g1.index = g1.index.astype(str)\n",
    "\n",
    "vname = \"22:36265995:AATAATT:A\"\n",
    "fn = \"/mnt/project/Bulk/Exome sequences/Population level exome OQFE variants, BGEN format - final release/ukb23159_c22_b0_v1.sample\"\n",
    "sns = pd.read_csv(fn, sep=\" \")\n",
    "sns = sns.iloc[1:,:]\n",
    "sns = sns.ID_1\n",
    "fn = \"/mnt/project/Bulk/Exome sequences/Population level exome OQFE variants, BGEN format - final release/ukb23159_c22_b0_v1.bgen\"\n",
    "bfile = BgenReader(fn)\n",
    "v = bfile.with_rsid(vname)[0]\n",
    "g2 = pd.Series(v.alt_dosage)\n",
    "g2.index = sns\n",
    "g2.name = \"g2\"\n",
    "g2 = pd.DataFrame(g2)\n",
    "g2.index = g2.index.astype(str)"
   ]
  },
  {
   "cell_type": "code",
   "execution_count": 5,
   "metadata": {
    "tags": [],
    "trusted": true
   },
   "outputs": [],
   "source": [
    "#ESRD:\n",
    "DATASET_ID = \"REDACTED\"\n",
    "dataset = dxdata.load_dataset(id=DATASET_ID)\n",
    "\n",
    "participant = dataset['participant']\n",
    "field_eid = participant.find_field(name=\"eid\")\n",
    "field_esrd = participant.find_field(name=\"p42026\")\n",
    "esrd = participant.retrieve_fields(engine=dxdata.connect(), fields=[field_eid, field_esrd], coding_values=\"replace\").toPandas()\n",
    "esrd.set_index(\"eid\", inplace=True)\n",
    "esrd.columns = [\"esrd\"]"
   ]
  },
  {
   "cell_type": "code",
   "execution_count": 6,
   "metadata": {
    "tags": [],
    "trusted": true
   },
   "outputs": [],
   "source": [
    "#Age, sex:\n",
    "DATASET_ID = \"REDACTED\"\n",
    "dataset = dxdata.load_dataset(id=DATASET_ID)\n",
    "participant = dataset['participant']\n",
    "field_age = participant.find_field(title=\"Age at recruitment\")\n",
    "field_sex = participant.find_field(title=\"Sex\")\n",
    "field_eid = participant.find_field(name=\"eid\")\n",
    "agesex = participant.retrieve_fields(engine=dxdata.connect(), fields=[field_eid, field_age, field_sex], coding_values=\"replace\").toPandas()\n",
    "agesex.set_index(\"eid\", inplace=True)\n",
    "agesex.columns = [\"age\", \"sex\"]\n",
    "agesex[\"sex\"] = agesex.sex.str.replace(\"Female\",\"0\").str.replace(\"Male\",\"1\").astype(int)\n"
   ]
  },
  {
   "cell_type": "code",
   "execution_count": null,
   "metadata": {
    "tags": [],
    "trusted": true
   },
   "outputs": [],
   "source": [
    "#Merge everything:\n",
    "v1.name = \"v1\"\n",
    "v1.index = v1.index.astype(str)\n",
    "variants = g1.join(g2, how=\"left\").join(v1, how=\"left\")"
   ]
  },
  {
   "cell_type": "code",
   "execution_count": null,
   "metadata": {
    "tags": [],
    "trusted": true
   },
   "outputs": [],
   "source": [
    "df = variants.join(agesex, how=\"left\").join(ans, how=\"left\").join(esrd, how=\"left\")"
   ]
  },
  {
   "cell_type": "code",
   "execution_count": 33,
   "metadata": {
    "tags": [],
    "trusted": true
   },
   "outputs": [
    {
     "data": {
      "text/plain": [
       "0    468169\n",
       "1      1666\n",
       "Name: esrd_case, dtype: int64"
      ]
     },
     "execution_count": 33,
     "metadata": {},
     "output_type": "execute_result"
    }
   ],
   "source": [
    "df[\"esrd_case\"] = (~df.esrd.isna()).astype(int)\n",
    "df.esrd_case.value_counts()"
   ]
  },
  {
   "cell_type": "code",
   "execution_count": 34,
   "metadata": {
    "tags": [],
    "trusted": true
   },
   "outputs": [],
   "source": [
    "import statsmodels.api as sm\n",
    "def logistic_regression_with_covariates(y: pd.Series, x: pd.Series, Z: pd.DataFrame, n_case_thres=10):\n",
    "    data = pd.concat([x, Z], axis=1)\n",
    "    data = sm.add_constant(data)\n",
    "    isna = (data.isna().any(axis=1)|y.isna())\n",
    "    data = data[~isna]\n",
    "    y = y[~isna]\n",
    "    n_case = sum(y)\n",
    "    n_cont = len(y) - sum(y)\n",
    "    if n_case<n_case_thres:\n",
    "        return {'log_odds_ratio': np.nan,'std_err': np.nan, 'pval': np.nan, 'N_case': n_case, \"N_cont\": n_cont}\n",
    "    else:\n",
    "        try:\n",
    "            model = sm.Logit(y, data).fit(disp=False)\n",
    "            log_odds_ratio = model.params[x.name]\n",
    "            std_err = model.bse[x.name]\n",
    "            p_value = model.pvalues[x.name]\n",
    "            return {'log_odds_ratio': log_odds_ratio,'std_err': std_err, 'pval': p_value, 'N_case': n_case, \"N_cont\": n_cont}\n",
    "        except:\n",
    "            return {'log_odds_ratio': np.nan,'std_err': np.nan, 'pval': np.nan, 'N_case': n_case, \"N_cont\": n_cont}"
   ]
  },
  {
   "cell_type": "code",
   "execution_count": 36,
   "metadata": {
    "tags": [],
    "trusted": true
   },
   "outputs": [
    {
     "name": "stderr",
     "output_type": "stream",
     "text": [
      "/tmp/ipykernel_82/2272967913.py:6: UserWarning: Boolean Series key will be reindexed to match DataFrame index.\n",
      "  data = data[~isna]\n"
     ]
    }
   ],
   "source": [
    "dfe = df[df[\"pop\"]==\"EUR\"]\n",
    "y = dfe.esrd_case\n",
    "x = dfe.v1\n",
    "z = df[[\"age\", \"sex\", \"PC1\", \"PC2\", \"PC3\", \"PC4\", \"PC5\"]]\n",
    "out = logistic_regression_with_covariates(y, x, z)"
   ]
  },
  {
   "cell_type": "code",
   "execution_count": 38,
   "metadata": {
    "tags": [],
    "trusted": true
   },
   "outputs": [
    {
     "data": {
      "text/plain": [
       "log_odds_ratio         0.021153\n",
       "std_err                0.049916\n",
       "pval                   0.671733\n",
       "N_case              1336.000000\n",
       "N_cont            409035.000000\n",
       "dtype: float64"
      ]
     },
     "execution_count": 38,
     "metadata": {},
     "output_type": "execute_result"
    }
   ],
   "source": [
    "pd.Series(out)"
   ]
  },
  {
   "cell_type": "code",
   "execution_count": 49,
   "metadata": {
    "tags": [],
    "trusted": true
   },
   "outputs": [
    {
     "name": "stderr",
     "output_type": "stream",
     "text": [
      "/tmp/ipykernel_82/235367144.py:2: SettingWithCopyWarning: \n",
      "A value is trying to be set on a copy of a slice from a DataFrame.\n",
      "Try using .loc[row_indexer,col_indexer] = value instead\n",
      "\n",
      "See the caveats in the documentation: https://pandas.pydata.org/pandas-docs/stable/user_guide/indexing.html#returning-a-view-versus-a-copy\n",
      "  dfa[\"g1g2_recessive\"] = (dfa.g1m+dfa.g2>0).astype(int)\n"
     ]
    },
    {
     "data": {
      "text/plain": [
       "log_odds_ratio      -0.216174\n",
       "std_err              0.254774\n",
       "pval                 0.396162\n",
       "N_case              68.000000\n",
       "N_cont            6341.000000\n",
       "dtype: float64"
      ]
     },
     "execution_count": 49,
     "metadata": {},
     "output_type": "execute_result"
    }
   ],
   "source": [
    "#Testing within AFR population:\n",
    "dfa = df[df[\"pop\"]==\"AFR\"]\n",
    "dfa[\"g1g2_recessive\"] = (dfa.g1m+dfa.g2>0).astype(int)\n",
    "y = dfa.esrd_case\n",
    "x = dfa.g1g2_recessive\n",
    "z = dfa[[\"age\", \"sex\", \"PC1\", \"PC2\", \"PC3\", \"PC4\", \"PC5\"]]\n",
    "is_na = y.isna()|x.isna()|z.isna().sum(axis=1)\n",
    "x = x[~is_na]\n",
    "y = y[~is_na]\n",
    "z = z[~is_na]\n",
    "out = logistic_regression_with_covariates(y, x, z)\n",
    "pd.Series(out)\n",
    "#So it is not even nominally associated.."
   ]
  }
 ],
 "metadata": {
  "kernelspec": {
   "display_name": "Python 3 (ipykernel)",
   "language": "python",
   "name": "python3"
  },
  "language_info": {
   "codemirror_mode": {
    "name": "ipython",
    "version": 3
   },
   "file_extension": ".py",
   "mimetype": "text/x-python",
   "name": "python",
   "nbconvert_exporter": "python",
   "pygments_lexer": "ipython3",
   "version": "3.9.16"
  }
 },
 "nbformat": 4,
 "nbformat_minor": 4
}
