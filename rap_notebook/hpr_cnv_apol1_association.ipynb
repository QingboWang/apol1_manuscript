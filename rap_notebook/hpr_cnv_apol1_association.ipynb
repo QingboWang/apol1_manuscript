{
 "cells": [
  {
   "cell_type": "markdown",
   "metadata": {},
   "source": [
    "# HPR CN vs APOL1 expression association analysis"
   ]
  },
  {
   "cell_type": "code",
   "execution_count": 1,
   "metadata": {
    "tags": [],
    "trusted": true
   },
   "outputs": [],
   "source": [
    "#Loading modules:\n",
    "import pandas as pd\n",
    "import numpy as np\n",
    "import time as tm\n",
    "import os\n",
    "import dxdata\n",
    "from matplotlib import pyplot as plt\n",
    "import seaborn as sns\n",
    "plt.rcParams.update({'font.size': 12})\n",
    "plt.rcParams['font.sans-serif'] = \"Arial\"\n",
    "plt.rcParams['font.family'] = \"sans-serif\"\n",
    "import logging\n",
    "logging.getLogger('matplotlib.font_manager').setLevel(logging.ERROR)"
   ]
  },
  {
   "cell_type": "code",
   "execution_count": 2,
   "metadata": {
    "tags": [],
    "trusted": true
   },
   "outputs": [],
   "source": [
    "#apol1:\n",
    "DATASET_ID = \"REDACTED\"\n",
    "dataset = dxdata.load_dataset(id=DATASET_ID)\n",
    "olinkdata = dataset['olink_instance_0']\n",
    "field_apol1 = olinkdata.find_field(name=\"apol1\")\n",
    "field_eid = olinkdata.find_field(name=\"eid\")\n",
    "apol1 = olinkdata.retrieve_fields(engine=dxdata.connect(), fields=[field_eid, field_apol1], coding_values=\"replace\")\n",
    "apol1 = apol1.toPandas()\n",
    "apol1.set_index(\"eid\", inplace=True)\n",
    "apol1 = apol1.squeeze()"
   ]
  },
  {
   "cell_type": "code",
   "execution_count": 13,
   "metadata": {
    "tags": [],
    "trusted": true
   },
   "outputs": [],
   "source": [
    "#HPR CN:\n",
    "fn = \"/mnt/project/qsw/tmp_data/ukb_full_hpr_cnv_chr16_72060344_72078024.tsv.gz\"\n",
    "cnv = pd.read_csv(fn, sep=\"\\t\", index_col=0)"
   ]
  },
  {
   "cell_type": "code",
   "execution_count": 4,
   "metadata": {
    "tags": [],
    "trusted": true
   },
   "outputs": [],
   "source": [
    "#Population:\n",
    "ans = pd.read_csv(\"/mnt/project/Datasets/Ancestry/panukbb_ancestry.txt\", sep=\"\\t\", index_col=0)\n",
    "ans.rename(columns={\"pop\":\"population\"}, inplace=True) #original bad naming..\n",
    "ans.set_index(\"individual_id\", inplace=True)\n",
    "ans = ans[~ans.index.duplicated(keep=\"first\")]\n",
    "ans.index = ans.index.astype(str).astype(object)"
   ]
  },
  {
   "cell_type": "code",
   "execution_count": null,
   "metadata": {
    "tags": [],
    "trusted": true
   },
   "outputs": [],
   "source": [
    "cnv.index = cnv.index.astype(str)\n",
    "cnv = cnv.join(apol1, how=\"left\")\n",
    "cnv = cnv.join(ans.population, how=\"left\")"
   ]
  },
  {
   "cell_type": "code",
   "execution_count": 16,
   "metadata": {
    "tags": [],
    "trusted": true
   },
   "outputs": [
    {
     "data": {
      "text/plain": [
       "False    482807\n",
       "True        797\n",
       "Name: hardcall, dtype: int64"
      ]
     },
     "metadata": {},
     "output_type": "display_data"
    },
    {
     "data": {
      "text/plain": [
       "False    4621\n",
       "True     2072\n",
       "Name: hardcall, dtype: int64"
      ]
     },
     "metadata": {},
     "output_type": "display_data"
    }
   ],
   "source": [
    "oth = cnv[cnv.population!=\"AFR\"]\n",
    "display((oth.hardcall!=2).value_counts())\n",
    "afr = cnv[cnv.population==\"AFR\"]\n",
    "display((afr.hardcall!=2).value_counts())"
   ]
  },
  {
   "cell_type": "code",
   "execution_count": 17,
   "metadata": {
    "tags": [],
    "trusted": true
   },
   "outputs": [
    {
     "name": "stdout",
     "output_type": "stream",
     "text": [
      "EUR\n"
     ]
    },
    {
     "data": {
      "text/plain": [
       "False    424078\n",
       "True        138\n",
       "Name: hardcall, dtype: int64"
      ]
     },
     "metadata": {},
     "output_type": "display_data"
    },
    {
     "name": "stdout",
     "output_type": "stream",
     "text": [
      "nan\n"
     ]
    },
    {
     "data": {
      "text/plain": [
       "Series([], Name: hardcall, dtype: int64)"
      ]
     },
     "metadata": {},
     "output_type": "display_data"
    },
    {
     "name": "stdout",
     "output_type": "stream",
     "text": [
      "AFR\n"
     ]
    },
    {
     "data": {
      "text/plain": [
       "False    4621\n",
       "True     2072\n",
       "Name: hardcall, dtype: int64"
      ]
     },
     "metadata": {},
     "output_type": "display_data"
    },
    {
     "name": "stdout",
     "output_type": "stream",
     "text": [
      "EAS\n"
     ]
    },
    {
     "data": {
      "text/plain": [
       "False    2769\n",
       "True        4\n",
       "Name: hardcall, dtype: int64"
      ]
     },
     "metadata": {},
     "output_type": "display_data"
    },
    {
     "name": "stdout",
     "output_type": "stream",
     "text": [
      "CSA\n"
     ]
    },
    {
     "data": {
      "text/plain": [
       "False    8987\n",
       "True        6\n",
       "Name: hardcall, dtype: int64"
      ]
     },
     "metadata": {},
     "output_type": "display_data"
    },
    {
     "name": "stdout",
     "output_type": "stream",
     "text": [
      "MID\n"
     ]
    },
    {
     "data": {
      "text/plain": [
       "False    1543\n",
       "True       59\n",
       "Name: hardcall, dtype: int64"
      ]
     },
     "metadata": {},
     "output_type": "display_data"
    },
    {
     "name": "stdout",
     "output_type": "stream",
     "text": [
      "AMR\n"
     ]
    },
    {
     "data": {
      "text/plain": [
       "False    970\n",
       "True      19\n",
       "Name: hardcall, dtype: int64"
      ]
     },
     "metadata": {},
     "output_type": "display_data"
    }
   ],
   "source": [
    "#Confirming that there is an AFR specific CN variation:\n",
    "for p in cnv.population.unique():\n",
    "    st = cnv[cnv.population==p]\n",
    "    print (p)\n",
    "    display((st.hardcall!=2).value_counts())"
   ]
  },
  {
   "cell_type": "code",
   "execution_count": 54,
   "metadata": {
    "tags": [],
    "trusted": true
   },
   "outputs": [
    {
     "data": {
      "text/html": [
       "<div>\n",
       "<style scoped>\n",
       "    .dataframe tbody tr th:only-of-type {\n",
       "        vertical-align: middle;\n",
       "    }\n",
       "\n",
       "    .dataframe tbody tr th {\n",
       "        vertical-align: top;\n",
       "    }\n",
       "\n",
       "    .dataframe thead th {\n",
       "        text-align: right;\n",
       "    }\n",
       "</style>\n",
       "<table border=\"1\" class=\"dataframe\">\n",
       "  <thead>\n",
       "    <tr style=\"text-align: right;\">\n",
       "      <th>hardcall</th>\n",
       "      <th>2.0</th>\n",
       "      <th>3.0</th>\n",
       "      <th>4.0</th>\n",
       "      <th>5.0</th>\n",
       "      <th>6.0</th>\n",
       "      <th>7.0</th>\n",
       "      <th>8.0</th>\n",
       "      <th>9.0</th>\n",
       "      <th>10.0</th>\n",
       "      <th>11.0</th>\n",
       "      <th>12.0</th>\n",
       "      <th>13.0</th>\n",
       "      <th>14.0</th>\n",
       "      <th>15.0</th>\n",
       "      <th>17.0</th>\n",
       "    </tr>\n",
       "    <tr>\n",
       "      <th>population</th>\n",
       "      <th></th>\n",
       "      <th></th>\n",
       "      <th></th>\n",
       "      <th></th>\n",
       "      <th></th>\n",
       "      <th></th>\n",
       "      <th></th>\n",
       "      <th></th>\n",
       "      <th></th>\n",
       "      <th></th>\n",
       "      <th></th>\n",
       "      <th></th>\n",
       "      <th></th>\n",
       "      <th></th>\n",
       "      <th></th>\n",
       "    </tr>\n",
       "  </thead>\n",
       "  <tbody>\n",
       "    <tr>\n",
       "      <th>AFR</th>\n",
       "      <td>4621</td>\n",
       "      <td>61</td>\n",
       "      <td>109</td>\n",
       "      <td>263</td>\n",
       "      <td>981</td>\n",
       "      <td>390</td>\n",
       "      <td>71</td>\n",
       "      <td>56</td>\n",
       "      <td>76</td>\n",
       "      <td>37</td>\n",
       "      <td>16</td>\n",
       "      <td>6</td>\n",
       "      <td>3</td>\n",
       "      <td>2</td>\n",
       "      <td>1</td>\n",
       "    </tr>\n",
       "    <tr>\n",
       "      <th>AMR</th>\n",
       "      <td>970</td>\n",
       "      <td>1</td>\n",
       "      <td>5</td>\n",
       "      <td>1</td>\n",
       "      <td>8</td>\n",
       "      <td>4</td>\n",
       "      <td>0</td>\n",
       "      <td>0</td>\n",
       "      <td>0</td>\n",
       "      <td>0</td>\n",
       "      <td>0</td>\n",
       "      <td>0</td>\n",
       "      <td>0</td>\n",
       "      <td>0</td>\n",
       "      <td>0</td>\n",
       "    </tr>\n",
       "    <tr>\n",
       "      <th>CSA</th>\n",
       "      <td>8987</td>\n",
       "      <td>2</td>\n",
       "      <td>1</td>\n",
       "      <td>2</td>\n",
       "      <td>1</td>\n",
       "      <td>0</td>\n",
       "      <td>0</td>\n",
       "      <td>0</td>\n",
       "      <td>0</td>\n",
       "      <td>0</td>\n",
       "      <td>0</td>\n",
       "      <td>0</td>\n",
       "      <td>0</td>\n",
       "      <td>0</td>\n",
       "      <td>0</td>\n",
       "    </tr>\n",
       "    <tr>\n",
       "      <th>EAS</th>\n",
       "      <td>2769</td>\n",
       "      <td>3</td>\n",
       "      <td>0</td>\n",
       "      <td>1</td>\n",
       "      <td>0</td>\n",
       "      <td>0</td>\n",
       "      <td>0</td>\n",
       "      <td>0</td>\n",
       "      <td>0</td>\n",
       "      <td>0</td>\n",
       "      <td>0</td>\n",
       "      <td>0</td>\n",
       "      <td>0</td>\n",
       "      <td>0</td>\n",
       "      <td>0</td>\n",
       "    </tr>\n",
       "    <tr>\n",
       "      <th>EUR</th>\n",
       "      <td>424078</td>\n",
       "      <td>49</td>\n",
       "      <td>24</td>\n",
       "      <td>5</td>\n",
       "      <td>42</td>\n",
       "      <td>11</td>\n",
       "      <td>6</td>\n",
       "      <td>1</td>\n",
       "      <td>0</td>\n",
       "      <td>0</td>\n",
       "      <td>0</td>\n",
       "      <td>0</td>\n",
       "      <td>0</td>\n",
       "      <td>0</td>\n",
       "      <td>0</td>\n",
       "    </tr>\n",
       "    <tr>\n",
       "      <th>MID</th>\n",
       "      <td>1543</td>\n",
       "      <td>6</td>\n",
       "      <td>4</td>\n",
       "      <td>8</td>\n",
       "      <td>28</td>\n",
       "      <td>11</td>\n",
       "      <td>1</td>\n",
       "      <td>1</td>\n",
       "      <td>0</td>\n",
       "      <td>0</td>\n",
       "      <td>0</td>\n",
       "      <td>0</td>\n",
       "      <td>0</td>\n",
       "      <td>0</td>\n",
       "      <td>0</td>\n",
       "    </tr>\n",
       "  </tbody>\n",
       "</table>\n",
       "</div>"
      ],
      "text/plain": [
       "hardcall      2.0   3.0   4.0   5.0   6.0   7.0   8.0   9.0   10.0  11.0  \\\n",
       "population                                                                 \n",
       "AFR           4621    61   109   263   981   390    71    56    76    37   \n",
       "AMR            970     1     5     1     8     4     0     0     0     0   \n",
       "CSA           8987     2     1     2     1     0     0     0     0     0   \n",
       "EAS           2769     3     0     1     0     0     0     0     0     0   \n",
       "EUR         424078    49    24     5    42    11     6     1     0     0   \n",
       "MID           1543     6     4     8    28    11     1     1     0     0   \n",
       "\n",
       "hardcall    12.0  13.0  14.0  15.0  17.0  \n",
       "population                                \n",
       "AFR           16     6     3     2     1  \n",
       "AMR            0     0     0     0     0  \n",
       "CSA            0     0     0     0     0  \n",
       "EAS            0     0     0     0     0  \n",
       "EUR            0     0     0     0     0  \n",
       "MID            0     0     0     0     0  "
      ]
     },
     "execution_count": 54,
     "metadata": {},
     "output_type": "execute_result"
    }
   ],
   "source": [
    "#Visualize CN in table:\n",
    "tb = cnv.groupby([\"population\",\"hardcall\"]).size().unstack().fillna(0).astype(int)\n",
    "tb"
   ]
  },
  {
   "cell_type": "code",
   "execution_count": 55,
   "metadata": {
    "tags": [],
    "trusted": true
   },
   "outputs": [
    {
     "data": {
      "text/html": [
       "<div>\n",
       "<style scoped>\n",
       "    .dataframe tbody tr th:only-of-type {\n",
       "        vertical-align: middle;\n",
       "    }\n",
       "\n",
       "    .dataframe tbody tr th {\n",
       "        vertical-align: top;\n",
       "    }\n",
       "\n",
       "    .dataframe thead th {\n",
       "        text-align: right;\n",
       "    }\n",
       "</style>\n",
       "<table border=\"1\" class=\"dataframe\">\n",
       "  <thead>\n",
       "    <tr style=\"text-align: right;\">\n",
       "      <th>hardcall</th>\n",
       "      <th>2.0</th>\n",
       "      <th>3.0</th>\n",
       "      <th>4.0</th>\n",
       "      <th>5.0</th>\n",
       "      <th>6.0</th>\n",
       "      <th>7.0</th>\n",
       "      <th>8.0</th>\n",
       "      <th>9.0</th>\n",
       "      <th>10.0</th>\n",
       "      <th>11.0</th>\n",
       "      <th>12.0</th>\n",
       "      <th>13.0</th>\n",
       "      <th>14.0</th>\n",
       "      <th>15.0</th>\n",
       "      <th>17.0</th>\n",
       "    </tr>\n",
       "    <tr>\n",
       "      <th>population</th>\n",
       "      <th></th>\n",
       "      <th></th>\n",
       "      <th></th>\n",
       "      <th></th>\n",
       "      <th></th>\n",
       "      <th></th>\n",
       "      <th></th>\n",
       "      <th></th>\n",
       "      <th></th>\n",
       "      <th></th>\n",
       "      <th></th>\n",
       "      <th></th>\n",
       "      <th></th>\n",
       "      <th></th>\n",
       "      <th></th>\n",
       "    </tr>\n",
       "  </thead>\n",
       "  <tbody>\n",
       "    <tr>\n",
       "      <th>AFR</th>\n",
       "      <td>0.690423</td>\n",
       "      <td>0.009114</td>\n",
       "      <td>0.016286</td>\n",
       "      <td>0.039295</td>\n",
       "      <td>0.146571</td>\n",
       "      <td>0.058270</td>\n",
       "      <td>0.010608</td>\n",
       "      <td>0.008367</td>\n",
       "      <td>0.011355</td>\n",
       "      <td>0.005528</td>\n",
       "      <td>0.002391</td>\n",
       "      <td>0.000896</td>\n",
       "      <td>0.000448</td>\n",
       "      <td>0.000299</td>\n",
       "      <td>0.000149</td>\n",
       "    </tr>\n",
       "    <tr>\n",
       "      <th>AMR</th>\n",
       "      <td>0.980789</td>\n",
       "      <td>0.001011</td>\n",
       "      <td>0.005056</td>\n",
       "      <td>0.001011</td>\n",
       "      <td>0.008089</td>\n",
       "      <td>0.004044</td>\n",
       "      <td>0.000000</td>\n",
       "      <td>0.000000</td>\n",
       "      <td>0.000000</td>\n",
       "      <td>0.000000</td>\n",
       "      <td>0.000000</td>\n",
       "      <td>0.000000</td>\n",
       "      <td>0.000000</td>\n",
       "      <td>0.000000</td>\n",
       "      <td>0.000000</td>\n",
       "    </tr>\n",
       "    <tr>\n",
       "      <th>CSA</th>\n",
       "      <td>0.999333</td>\n",
       "      <td>0.000222</td>\n",
       "      <td>0.000111</td>\n",
       "      <td>0.000222</td>\n",
       "      <td>0.000111</td>\n",
       "      <td>0.000000</td>\n",
       "      <td>0.000000</td>\n",
       "      <td>0.000000</td>\n",
       "      <td>0.000000</td>\n",
       "      <td>0.000000</td>\n",
       "      <td>0.000000</td>\n",
       "      <td>0.000000</td>\n",
       "      <td>0.000000</td>\n",
       "      <td>0.000000</td>\n",
       "      <td>0.000000</td>\n",
       "    </tr>\n",
       "    <tr>\n",
       "      <th>EAS</th>\n",
       "      <td>0.998558</td>\n",
       "      <td>0.001082</td>\n",
       "      <td>0.000000</td>\n",
       "      <td>0.000361</td>\n",
       "      <td>0.000000</td>\n",
       "      <td>0.000000</td>\n",
       "      <td>0.000000</td>\n",
       "      <td>0.000000</td>\n",
       "      <td>0.000000</td>\n",
       "      <td>0.000000</td>\n",
       "      <td>0.000000</td>\n",
       "      <td>0.000000</td>\n",
       "      <td>0.000000</td>\n",
       "      <td>0.000000</td>\n",
       "      <td>0.000000</td>\n",
       "    </tr>\n",
       "    <tr>\n",
       "      <th>EUR</th>\n",
       "      <td>0.999675</td>\n",
       "      <td>0.000116</td>\n",
       "      <td>0.000057</td>\n",
       "      <td>0.000012</td>\n",
       "      <td>0.000099</td>\n",
       "      <td>0.000026</td>\n",
       "      <td>0.000014</td>\n",
       "      <td>0.000002</td>\n",
       "      <td>0.000000</td>\n",
       "      <td>0.000000</td>\n",
       "      <td>0.000000</td>\n",
       "      <td>0.000000</td>\n",
       "      <td>0.000000</td>\n",
       "      <td>0.000000</td>\n",
       "      <td>0.000000</td>\n",
       "    </tr>\n",
       "    <tr>\n",
       "      <th>MID</th>\n",
       "      <td>0.963171</td>\n",
       "      <td>0.003745</td>\n",
       "      <td>0.002497</td>\n",
       "      <td>0.004994</td>\n",
       "      <td>0.017478</td>\n",
       "      <td>0.006866</td>\n",
       "      <td>0.000624</td>\n",
       "      <td>0.000624</td>\n",
       "      <td>0.000000</td>\n",
       "      <td>0.000000</td>\n",
       "      <td>0.000000</td>\n",
       "      <td>0.000000</td>\n",
       "      <td>0.000000</td>\n",
       "      <td>0.000000</td>\n",
       "      <td>0.000000</td>\n",
       "    </tr>\n",
       "  </tbody>\n",
       "</table>\n",
       "</div>"
      ],
      "text/plain": [
       "hardcall        2.0       3.0       4.0       5.0       6.0       7.0   \\\n",
       "population                                                               \n",
       "AFR         0.690423  0.009114  0.016286  0.039295  0.146571  0.058270   \n",
       "AMR         0.980789  0.001011  0.005056  0.001011  0.008089  0.004044   \n",
       "CSA         0.999333  0.000222  0.000111  0.000222  0.000111  0.000000   \n",
       "EAS         0.998558  0.001082  0.000000  0.000361  0.000000  0.000000   \n",
       "EUR         0.999675  0.000116  0.000057  0.000012  0.000099  0.000026   \n",
       "MID         0.963171  0.003745  0.002497  0.004994  0.017478  0.006866   \n",
       "\n",
       "hardcall        8.0       9.0       10.0      11.0      12.0      13.0  \\\n",
       "population                                                               \n",
       "AFR         0.010608  0.008367  0.011355  0.005528  0.002391  0.000896   \n",
       "AMR         0.000000  0.000000  0.000000  0.000000  0.000000  0.000000   \n",
       "CSA         0.000000  0.000000  0.000000  0.000000  0.000000  0.000000   \n",
       "EAS         0.000000  0.000000  0.000000  0.000000  0.000000  0.000000   \n",
       "EUR         0.000014  0.000002  0.000000  0.000000  0.000000  0.000000   \n",
       "MID         0.000624  0.000624  0.000000  0.000000  0.000000  0.000000   \n",
       "\n",
       "hardcall        14.0      15.0      17.0  \n",
       "population                                \n",
       "AFR         0.000448  0.000299  0.000149  \n",
       "AMR         0.000000  0.000000  0.000000  \n",
       "CSA         0.000000  0.000000  0.000000  \n",
       "EAS         0.000000  0.000000  0.000000  \n",
       "EUR         0.000000  0.000000  0.000000  \n",
       "MID         0.000000  0.000000  0.000000  "
      ]
     },
     "execution_count": 55,
     "metadata": {},
     "output_type": "execute_result"
    }
   ],
   "source": [
    "#And percentage:\n",
    "f = (tb.T/tb.sum(axis=1)).T\n",
    "f"
   ]
  },
  {
   "cell_type": "code",
   "execution_count": 56,
   "metadata": {
    "tags": [],
    "trusted": true
   },
   "outputs": [],
   "source": [
    "f = f.T\n",
    "f.index = f.index.astype(int)\n",
    "f.index.name = \"HPR copy number\""
   ]
  },
  {
   "cell_type": "code",
   "execution_count": 57,
   "metadata": {
    "tags": [],
    "trusted": true
   },
   "outputs": [],
   "source": [
    "f = f.T\n",
    "f[16] = 0\n",
    "f = f.T\n",
    "f.sort_index(inplace=True)"
   ]
  },
  {
   "cell_type": "code",
   "execution_count": 58,
   "metadata": {
    "tags": [],
    "trusted": true
   },
   "outputs": [
    {
     "data": {
      "image/png": "[encoded data removed]",
      "text/plain": [
       "<Figure size 1200x500 with 1 Axes>"
      ]
     },
     "metadata": {},
     "output_type": "display_data"
    }
   ],
   "source": [
    "#In a bar plot:\n",
    "f.plot.bar(logy=True, figsize=(12,5), width=0.8, color=[\"tab:green\", \"tab:blue\", \"tab:orange\", \"tab:purple\", \"tab:red\", \"tab:brown\"])\n",
    "plt.ylabel(\"Frequency\")\n",
    "plt.xticks(rotation=0)\n",
    "plt.tight_layout()\n",
    "plt.savefig(\"hpr_cn_allpop.png\", dpi=400)\n",
    "plt.savefig(\"hpr_cn_allpop.pdf\", dpi=400)\n",
    "plt.show()\n",
    "plt.close()"
   ]
  },
  {
   "cell_type": "code",
   "execution_count": 60,
   "metadata": {
    "tags": [],
    "trusted": true
   },
   "outputs": [],
   "source": [
    "#Comparing EUR vs AFR: \n",
    "tb = cnv[(cnv.population==\"AFR\")|(cnv.population==\"EUR\")].groupby([\"population\",\"hardcall\"]).size().unstack().fillna(0).astype(int)\n",
    "f = (tb.T/tb.sum(axis=1)).T\n",
    "f = f.T\n",
    "f.index = f.index.astype(int)\n",
    "f.index.name = \"HPR copy number\""
   ]
  },
  {
   "cell_type": "code",
   "execution_count": 61,
   "metadata": {
    "tags": [],
    "trusted": true
   },
   "outputs": [
    {
     "data": {
      "text/html": [
       "<div>\n",
       "<style scoped>\n",
       "    .dataframe tbody tr th:only-of-type {\n",
       "        vertical-align: middle;\n",
       "    }\n",
       "\n",
       "    .dataframe tbody tr th {\n",
       "        vertical-align: top;\n",
       "    }\n",
       "\n",
       "    .dataframe thead th {\n",
       "        text-align: right;\n",
       "    }\n",
       "</style>\n",
       "<table border=\"1\" class=\"dataframe\">\n",
       "  <thead>\n",
       "    <tr style=\"text-align: right;\">\n",
       "      <th>population</th>\n",
       "      <th>AFR</th>\n",
       "      <th>EUR</th>\n",
       "    </tr>\n",
       "    <tr>\n",
       "      <th>HPR copy number</th>\n",
       "      <th></th>\n",
       "      <th></th>\n",
       "    </tr>\n",
       "  </thead>\n",
       "  <tbody>\n",
       "    <tr>\n",
       "      <th>2</th>\n",
       "      <td>0.690423</td>\n",
       "      <td>0.999675</td>\n",
       "    </tr>\n",
       "    <tr>\n",
       "      <th>3</th>\n",
       "      <td>0.009114</td>\n",
       "      <td>0.000116</td>\n",
       "    </tr>\n",
       "    <tr>\n",
       "      <th>4</th>\n",
       "      <td>0.016286</td>\n",
       "      <td>0.000057</td>\n",
       "    </tr>\n",
       "    <tr>\n",
       "      <th>5</th>\n",
       "      <td>0.039295</td>\n",
       "      <td>0.000012</td>\n",
       "    </tr>\n",
       "    <tr>\n",
       "      <th>6</th>\n",
       "      <td>0.146571</td>\n",
       "      <td>0.000099</td>\n",
       "    </tr>\n",
       "    <tr>\n",
       "      <th>7</th>\n",
       "      <td>0.058270</td>\n",
       "      <td>0.000026</td>\n",
       "    </tr>\n",
       "    <tr>\n",
       "      <th>8</th>\n",
       "      <td>0.010608</td>\n",
       "      <td>0.000014</td>\n",
       "    </tr>\n",
       "    <tr>\n",
       "      <th>9</th>\n",
       "      <td>0.008367</td>\n",
       "      <td>0.000002</td>\n",
       "    </tr>\n",
       "    <tr>\n",
       "      <th>10</th>\n",
       "      <td>0.011355</td>\n",
       "      <td>0.000000</td>\n",
       "    </tr>\n",
       "    <tr>\n",
       "      <th>11</th>\n",
       "      <td>0.005528</td>\n",
       "      <td>0.000000</td>\n",
       "    </tr>\n",
       "    <tr>\n",
       "      <th>12</th>\n",
       "      <td>0.002391</td>\n",
       "      <td>0.000000</td>\n",
       "    </tr>\n",
       "    <tr>\n",
       "      <th>13</th>\n",
       "      <td>0.000896</td>\n",
       "      <td>0.000000</td>\n",
       "    </tr>\n",
       "    <tr>\n",
       "      <th>14</th>\n",
       "      <td>0.000448</td>\n",
       "      <td>0.000000</td>\n",
       "    </tr>\n",
       "    <tr>\n",
       "      <th>15</th>\n",
       "      <td>0.000299</td>\n",
       "      <td>0.000000</td>\n",
       "    </tr>\n",
       "    <tr>\n",
       "      <th>16</th>\n",
       "      <td>0.000000</td>\n",
       "      <td>0.000000</td>\n",
       "    </tr>\n",
       "    <tr>\n",
       "      <th>17</th>\n",
       "      <td>0.000149</td>\n",
       "      <td>0.000000</td>\n",
       "    </tr>\n",
       "  </tbody>\n",
       "</table>\n",
       "</div>"
      ],
      "text/plain": [
       "population            AFR       EUR\n",
       "HPR copy number                    \n",
       "2                0.690423  0.999675\n",
       "3                0.009114  0.000116\n",
       "4                0.016286  0.000057\n",
       "5                0.039295  0.000012\n",
       "6                0.146571  0.000099\n",
       "7                0.058270  0.000026\n",
       "8                0.010608  0.000014\n",
       "9                0.008367  0.000002\n",
       "10               0.011355  0.000000\n",
       "11               0.005528  0.000000\n",
       "12               0.002391  0.000000\n",
       "13               0.000896  0.000000\n",
       "14               0.000448  0.000000\n",
       "15               0.000299  0.000000\n",
       "16               0.000000  0.000000\n",
       "17               0.000149  0.000000"
      ]
     },
     "execution_count": 61,
     "metadata": {},
     "output_type": "execute_result"
    }
   ],
   "source": [
    "f = f.T\n",
    "f[16] = 0\n",
    "f = f.T\n",
    "f.sort_index(inplace=True)\n",
    "f"
   ]
  },
  {
   "cell_type": "code",
   "execution_count": 63,
   "metadata": {
    "tags": [],
    "trusted": true
   },
   "outputs": [
    {
     "data": {
      "image/png": "[encoded data removed]",
      "text/plain": [
       "<Figure size 700x350 with 1 Axes>"
      ]
     },
     "metadata": {},
     "output_type": "display_data"
    }
   ],
   "source": [
    "f.plot.bar(logy=True, figsize=(7,3.5), width=0.8, color=[\"tab:green\", \"tab:blue\"])\n",
    "plt.ylabel(\"Frequency\")\n",
    "plt.tight_layout()\n",
    "plt.xticks(rotation=0)\n",
    "plt.savefig(\"hpr_cn_eurafr.png\", dpi=400)\n",
    "plt.savefig(\"hpr_cn_eurafr.pdf\", dpi=400)\n",
    "plt.show()\n",
    "plt.close()"
   ]
  },
  {
   "cell_type": "code",
   "execution_count": 67,
   "metadata": {
    "tags": [],
    "trusted": true
   },
   "outputs": [],
   "source": [
    "#Assoc with APOL1 exp:\n",
    "#AFR:\n",
    "afr = cnv[cnv.population==\"AFR\"]\n",
    "afr = afr[~afr.apol1.isna()]\n",
    "afr.hardcall.value_counts().sort_index()\n",
    "#>10 => merge at 11\n",
    "afr[\"x\"] = np.minimum(afr.hardcall, 11)\n",
    "st = afr.groupby([\"x\"]).apol1.agg([\"mean\", \"sem\", \"count\"])"
   ]
  },
  {
   "cell_type": "code",
   "execution_count": 68,
   "metadata": {
    "tags": [],
    "trusted": true
   },
   "outputs": [
    {
     "data": {
      "text/html": [
       "<div>\n",
       "<style scoped>\n",
       "    .dataframe tbody tr th:only-of-type {\n",
       "        vertical-align: middle;\n",
       "    }\n",
       "\n",
       "    .dataframe tbody tr th {\n",
       "        vertical-align: top;\n",
       "    }\n",
       "\n",
       "    .dataframe thead th {\n",
       "        text-align: right;\n",
       "    }\n",
       "</style>\n",
       "<table border=\"1\" class=\"dataframe\">\n",
       "  <thead>\n",
       "    <tr style=\"text-align: right;\">\n",
       "      <th></th>\n",
       "      <th>mean</th>\n",
       "      <th>sem</th>\n",
       "      <th>count</th>\n",
       "    </tr>\n",
       "    <tr>\n",
       "      <th>x</th>\n",
       "      <th></th>\n",
       "      <th></th>\n",
       "      <th></th>\n",
       "    </tr>\n",
       "  </thead>\n",
       "  <tbody>\n",
       "    <tr>\n",
       "      <th>2.0</th>\n",
       "      <td>1.278198</td>\n",
       "      <td>0.033426</td>\n",
       "      <td>567</td>\n",
       "    </tr>\n",
       "    <tr>\n",
       "      <th>3.0</th>\n",
       "      <td>1.181778</td>\n",
       "      <td>0.347852</td>\n",
       "      <td>9</td>\n",
       "    </tr>\n",
       "    <tr>\n",
       "      <th>4.0</th>\n",
       "      <td>0.996514</td>\n",
       "      <td>0.151108</td>\n",
       "      <td>22</td>\n",
       "    </tr>\n",
       "    <tr>\n",
       "      <th>5.0</th>\n",
       "      <td>1.422361</td>\n",
       "      <td>0.149996</td>\n",
       "      <td>32</td>\n",
       "    </tr>\n",
       "    <tr>\n",
       "      <th>6.0</th>\n",
       "      <td>1.507357</td>\n",
       "      <td>0.064310</td>\n",
       "      <td>123</td>\n",
       "    </tr>\n",
       "    <tr>\n",
       "      <th>7.0</th>\n",
       "      <td>1.283272</td>\n",
       "      <td>0.139205</td>\n",
       "      <td>32</td>\n",
       "    </tr>\n",
       "    <tr>\n",
       "      <th>8.0</th>\n",
       "      <td>1.253971</td>\n",
       "      <td>0.214615</td>\n",
       "      <td>12</td>\n",
       "    </tr>\n",
       "    <tr>\n",
       "      <th>9.0</th>\n",
       "      <td>1.683970</td>\n",
       "      <td>0.371933</td>\n",
       "      <td>5</td>\n",
       "    </tr>\n",
       "    <tr>\n",
       "      <th>10.0</th>\n",
       "      <td>2.054075</td>\n",
       "      <td>0.303852</td>\n",
       "      <td>10</td>\n",
       "    </tr>\n",
       "    <tr>\n",
       "      <th>11.0</th>\n",
       "      <td>1.510968</td>\n",
       "      <td>0.309287</td>\n",
       "      <td>11</td>\n",
       "    </tr>\n",
       "  </tbody>\n",
       "</table>\n",
       "</div>"
      ],
      "text/plain": [
       "          mean       sem  count\n",
       "x                              \n",
       "2.0   1.278198  0.033426    567\n",
       "3.0   1.181778  0.347852      9\n",
       "4.0   0.996514  0.151108     22\n",
       "5.0   1.422361  0.149996     32\n",
       "6.0   1.507357  0.064310    123\n",
       "7.0   1.283272  0.139205     32\n",
       "8.0   1.253971  0.214615     12\n",
       "9.0   1.683970  0.371933      5\n",
       "10.0  2.054075  0.303852     10\n",
       "11.0  1.510968  0.309287     11"
      ]
     },
     "execution_count": 68,
     "metadata": {},
     "output_type": "execute_result"
    }
   ],
   "source": [
    "st"
   ]
  },
  {
   "cell_type": "code",
   "execution_count": 113,
   "metadata": {
    "tags": [],
    "trusted": true
   },
   "outputs": [
    {
     "data": {
      "image/png": "[encoded data removed]",
      "text/plain": [
       "<Figure size 800x300 with 1 Axes>"
      ]
     },
     "metadata": {},
     "output_type": "display_data"
    }
   ],
   "source": [
    "from matplotlib.cm import viridis\n",
    "import seaborn as sns\n",
    "from scipy import stats\n",
    "\n",
    "np.random.seed(4)\n",
    "afr[\"rd\"] = (np.random.rand(afr.shape[0])-0.5)/2\n",
    "afr.loc[afr.hardcall==13,\"rd\"]=0 #for n=1 count\n",
    "plt.figure(figsize=(8,3))\n",
    "afr.sort_values(by=\"hardcall\", ascending=True, inplace=True)\n",
    "for i, cn in enumerate(afr.hardcall.unique()):\n",
    "    subset = afr[afr.hardcall==cn]\n",
    "    plt.scatter(subset.hardcall + subset.rd, subset.apol1, color=viridis((i+0.5)/len(afr.hardcall.unique())), alpha=0.75)\n",
    "    mean = subset.apol1.mean()\n",
    "    se = subset.apol1.sem()\n",
    "    plt.errorbar([cn], mean, yerr=se, fmt='o', color='black', capsize=3)\n",
    "    slope, intercept, r_value, p_value, std_err = stats.linregress(afr.hardcall, afr.apol1)\n",
    "x_vals = np.array([2,13])  # Get the x-axis limits for plotting the line\n",
    "y_vals = intercept + slope * x_vals\n",
    "plt.plot(x_vals, y_vals, color='black', linestyle='--', linewidth=0.75)\n",
    "plt.text(x=3, y=3.8, s=\"(beta, p-value) = ({:.4f}, {:.2e})\".format(slope, p_value), fontsize=12)\n",
    "plt.xticks(afr.hardcall, afr.hardcall.astype(int))\n",
    "plt.xlabel(\"HPR copy number in UKB AFR\")\n",
    "plt.ylabel(\"APOL1 expression\\n(NPX in Olink)\")\n",
    "plt.tight_layout()\n",
    "plt.savefig(\"hpr_cn_regression.png\", dpi=400)\n",
    "plt.savefig(\"hpr_cn_regression.pdf\", dpi=400)\n",
    "plt.show()"
   ]
  }
 ],
 "metadata": {
  "kernelspec": {
   "display_name": "Python 3 (ipykernel)",
   "language": "python",
   "name": "python3"
  },
  "language_info": {
   "codemirror_mode": {
    "name": "ipython",
    "version": 3
   },
   "file_extension": ".py",
   "mimetype": "text/x-python",
   "name": "python",
   "nbconvert_exporter": "python",
   "pygments_lexer": "ipython3",
   "version": "3.9.16"
  }
 },
 "nbformat": 4,
 "nbformat_minor": 4
}
